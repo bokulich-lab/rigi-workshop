{
  "cells": [
    {
      "cell_type": "markdown",
      "id": "66e8d14b",
      "metadata": {
        "id": "66e8d14b"
      },
      "source": [
        "# Tutorial: Machine Learning with QIIME 2\n",
        "\n",
        "This notebook contains materials accompanying the Functional Genomics Center Zürich course **Next-Generation Sequencing Applied to Metagenomics (BIO638)**. The notebook and corresponding setup script were adapted from the [**Advanced Block Course: Computational Biology**](https://github.com/bokulich-lab/advanced-comp-bio-tutorial.git); all source code is licensed under the Apache License 2.0.\n",
        "\n",
        "Save your own local copy of this notebook by using `File > Save a copy in Drive`. At some point you may be prompted to trust the notebook. We promise that it is safe 🤞\n",
        "\n",
        "**Notes (optional):**\n",
        "\n",
        "The Google Colab notebook environment will interpret any command as Python code by default. If we want to run bash commands we will have to prefix them by `!`. So any command you see with a leading `!` is a bash command and if you wanted to run it in your terminal you would omit the leading `!`. For example, if in the Colab notebook you ran `!wget` you would just run `wget` in your terminal.\n",
        "\n",
        "In this notebook we use the `!` prefix because we run all QIIME 2 commands using the [`q2cli`](https://github.com/qiime2/q2cli/) (QIIME 2 command-line interface). However, QIIME 2 also has a python API and a Galaxy interface. You can learn more about these and other QIIME 2 interfaces at https://qiime2.org/."
      ]
    },
    {
      "cell_type": "code",
      "execution_count": null,
      "id": "849321b3-d623-4786-a6b1-13d68bdc12e7",
      "metadata": {
        "id": "849321b3-d623-4786-a6b1-13d68bdc12e7"
      },
      "outputs": [],
      "source": [
        "feature_table_file = \"/content/feature_table.qza\"\n",
        "feature_table_tss_file = \"/content/feature_table_tss.qza\"\n",
        "metadata_file = \"/content/metadata.tsv\""
      ]
    },
    {
      "cell_type": "markdown",
      "id": "72f112dd-6c92-4bc8-9903-b66810eba77d",
      "metadata": {
        "id": "72f112dd-6c92-4bc8-9903-b66810eba77d"
      },
      "source": [
        "### Environment setup\n",
        "\n",
        "QIIME 2 is usually installed by following the [official installation instructions](https://docs.qiime2.org/2024.10/install/). However, because we are using Google Colab and there are some caveats to using conda here, we will have to hack around the installation a little. But no worries, we provide a setup script below which does all this work for us. 😌 Let's start by pulling a local copy of the project repository down from GitHub.\n",
        "\n",
        "From here, you run the entire notebook by selecting `Runtime > Run all` from the menu in Google Colab. Some steps are time-comsuming and the entire notebook may take up to 30-60 minutes, so run the entire notebook now and we will inspect the commands and results as we work through as a class.\n",
        "\n",
        "🛑 **ACTION** 🛑\n",
        "<br>\n",
        "*Run every cell in the notebook using the instructions above.*"
      ]
    },
    {
      "cell_type": "code",
      "execution_count": 1,
      "id": "fb370f02",
      "metadata": {
        "colab": {
          "base_uri": "https://localhost:8080/"
        },
        "id": "fb370f02",
        "outputId": "d1b21cb3-7b09-4fa6-d7dd-7199f47d4ec5"
      },
      "outputs": [
        {
          "name": "stdout",
          "output_type": "stream",
          "text": [
            "Cloning into 'materials'...\n",
            "remote: Enumerating objects: 11, done.\u001b[K\n",
            "remote: Counting objects: 100% (11/11), done.\u001b[K\n",
            "remote: Compressing objects: 100% (10/10), done.\u001b[K\n",
            "remote: Total 11 (delta 1), reused 7 (delta 0), pack-reused 0 (from 0)\u001b[K\n",
            "Receiving objects: 100% (11/11), 12.18 KiB | 4.06 MiB/s, done.\n",
            "Resolving deltas: 100% (1/1), done.\n"
          ]
        }
      ],
      "source": [
        "! git clone https://github.com/bokulich-lab/rigi-workshop.git workshop-materials"
      ]
    },
    {
      "cell_type": "markdown",
      "id": "ca93f535-e068-46c4-a7cc-2cb003a125ed",
      "metadata": {
        "id": "ca93f535-e068-46c4-a7cc-2cb003a125ed"
      },
      "source": [
        "We will move into the `materials/` directory."
      ]
    },
    {
      "cell_type": "code",
      "execution_count": 2,
      "id": "8c307202-63c5-4a14-aa2c-8cf62798c147",
      "metadata": {
        "colab": {
          "base_uri": "https://localhost:8080/"
        },
        "id": "8c307202-63c5-4a14-aa2c-8cf62798c147",
        "outputId": "07c45da9-18d6-4110-c4e2-44eb44cde38b"
      },
      "outputs": [
        {
          "name": "stdout",
          "output_type": "stream",
          "text": [
            "/content/materials\n"
          ]
        }
      ],
      "source": [
        "%cd workshop-materials"
      ]
    },
    {
      "cell_type": "markdown",
      "id": "c489ed10",
      "metadata": {
        "id": "c489ed10"
      },
      "source": [
        "Now we are ready to set up our environment. This will take about 10 minutes.\n",
        "<br>\n",
        "**Note:** This setup is only relevant for Google Colaboratory and will not work on your local machine. To learn more about MOSHPIT installation please consult our [official tutorial](https://moshpit.readthedocs.io/en/latest/chapters/00_setup.html)."
      ]
    },
    {
      "cell_type": "code",
      "execution_count": 32,
      "id": "9b891377",
      "metadata": {
        "colab": {
          "base_uri": "https://localhost:8080/",
          "height": 71
        },
        "id": "9b891377",
        "outputId": "792a9239-ed58-4ef5-c348-07a5e1259874"
      },
      "outputs": [
        {
          "data": {
            "text/html": [
              "<pre style=\"white-space:pre;overflow-x:auto;line-height:normal;font-family:Menlo,'DejaVu Sans Mono',consolas,'Courier New',monospace\"><span style=\"color: #7fbfbf; text-decoration-color: #7fbfbf\">[10:16:52] </span>🐍 Miniconda is already installed. Skipped.                                           <a href=\"file:///content/materials/setup_qiime2.py\" target=\"_blank\"><span style=\"color: #7f7f7f; text-decoration-color: #7f7f7f\">setup_qiime2.py</span></a><span style=\"color: #7f7f7f; text-decoration-color: #7f7f7f\">:</span><a href=\"file:///content/materials/setup_qiime2.py#94\" target=\"_blank\"><span style=\"color: #7f7f7f; text-decoration-color: #7f7f7f\">94</span></a>\n",
              "</pre>\n"
            ],
            "text/plain": [
              "\u001b[2;36m[10:16:52]\u001b[0m\u001b[2;36m \u001b[0m🐍 Miniconda is already installed. Skipped.                                           \u001b]8;id=71010;file:///content/materials/setup_qiime2.py\u001b\\\u001b[2msetup_qiime2.py\u001b[0m\u001b]8;;\u001b\\\u001b[2m:\u001b[0m\u001b]8;id=332039;file:///content/materials/setup_qiime2.py#94\u001b\\\u001b[2m94\u001b[0m\u001b]8;;\u001b\\\n"
            ]
          },
          "metadata": {},
          "output_type": "display_data"
        },
        {
          "data": {
            "text/html": [
              "<pre style=\"white-space:pre;overflow-x:auto;line-height:normal;font-family:Menlo,'DejaVu Sans Mono',consolas,'Courier New',monospace\"><span style=\"color: #7fbfbf; text-decoration-color: #7fbfbf\">           </span>Cleaned up unneeded files.                                                            <a href=\"file:///content/materials/setup_qiime2.py\" target=\"_blank\"><span style=\"color: #7f7f7f; text-decoration-color: #7f7f7f\">setup_qiime2.py</span></a><span style=\"color: #7f7f7f; text-decoration-color: #7f7f7f\">:</span><a href=\"file:///content/materials/setup_qiime2.py#30\" target=\"_blank\"><span style=\"color: #7f7f7f; text-decoration-color: #7f7f7f\">30</span></a>\n",
              "</pre>\n"
            ],
            "text/plain": [
              "\u001b[2;36m          \u001b[0m\u001b[2;36m \u001b[0mCleaned up unneeded files.                                                            \u001b]8;id=929020;file:///content/materials/setup_qiime2.py\u001b\\\u001b[2msetup_qiime2.py\u001b[0m\u001b]8;;\u001b\\\u001b[2m:\u001b[0m\u001b]8;id=367407;file:///content/materials/setup_qiime2.py#30\u001b\\\u001b[2m30\u001b[0m\u001b]8;;\u001b\\\n"
            ]
          },
          "metadata": {},
          "output_type": "display_data"
        },
        {
          "data": {
            "text/html": [
              "<pre style=\"white-space:pre;overflow-x:auto;line-height:normal;font-family:Menlo,'DejaVu Sans Mono',consolas,'Courier New',monospace\"><span style=\"color: #7fbfbf; text-decoration-color: #7fbfbf\">           </span><span style=\"color: #008000; text-decoration-color: #008000\">Everything is A-OK. You can start using QIIME </span><span style=\"color: #008000; text-decoration-color: #008000; font-weight: bold\">2</span><span style=\"color: #008000; text-decoration-color: #008000\"> now 👍</span>                               <a href=\"file:///content/materials/setup_qiime2.py\" target=\"_blank\"><span style=\"color: #7f7f7f; text-decoration-color: #7f7f7f\">setup_qiime2.py</span></a><span style=\"color: #7f7f7f; text-decoration-color: #7f7f7f\">:</span><a href=\"file:///content/materials/setup_qiime2.py#201\" target=\"_blank\"><span style=\"color: #7f7f7f; text-decoration-color: #7f7f7f\">201</span></a>\n",
              "</pre>\n"
            ],
            "text/plain": [
              "\u001b[2;36m          \u001b[0m\u001b[2;36m \u001b[0m\u001b[32mEverything is A-OK. You can start using QIIME \u001b[0m\u001b[1;32m2\u001b[0m\u001b[32m now 👍\u001b[0m                               \u001b]8;id=693340;file:///content/materials/setup_qiime2.py\u001b\\\u001b[2msetup_qiime2.py\u001b[0m\u001b]8;;\u001b\\\u001b[2m:\u001b[0m\u001b]8;id=120338;file:///content/materials/setup_qiime2.py#201\u001b\\\u001b[2m201\u001b[0m\u001b]8;;\u001b\\\n"
            ]
          },
          "metadata": {},
          "output_type": "display_data"
        }
      ],
      "source": [
        "%run setup_moshpit"
      ]
    },
    {
      "cell_type": "code",
      "execution_count": 41,
      "id": "9d-cD0LaIp3y",
      "metadata": {
        "id": "9d-cD0LaIp3y"
      },
      "outputs": [],
      "source": [
        "# we need to alias the \"mosh\" command to point to the moshpit-dev environment - this is a workaround for the Google Colab environment\n",
        "alias mosh mamba run -n moshpit-dev -r /usr/local mosh"
      ]
    },
    {
      "cell_type": "code",
      "execution_count": null,
      "id": "bbfd9cbe-c256-4bfc-a7e9-f92e24ae9d8a",
      "metadata": {
        "id": "bbfd9cbe-c256-4bfc-a7e9-f92e24ae9d8a"
      },
      "outputs": [],
      "source": []
    }
  ],
  "metadata": {
    "colab": {
      "provenance": []
    },
    "kernelspec": {
      "display_name": "qiime2-2023.2",
      "language": "python",
      "name": "qiime2-2023.2"
    },
    "language_info": {
      "codemirror_mode": {
        "name": "ipython",
        "version": 3
      },
      "file_extension": ".py",
      "mimetype": "text/x-python",
      "name": "python",
      "nbconvert_exporter": "python",
      "pygments_lexer": "ipython3",
      "version": "3.8.16"
    },
    "toc": {
      "base_numbering": 1,
      "nav_menu": {},
      "number_sections": true,
      "sideBar": true,
      "skip_h1_title": false,
      "title_cell": "Table of Contents",
      "title_sidebar": "Contents",
      "toc_cell": false,
      "toc_position": {},
      "toc_section_display": true,
      "toc_window_display": false
    },
    "varInspector": {
      "cols": {
        "lenName": 16,
        "lenType": 16,
        "lenVar": 40
      },
      "kernels_config": {
        "python": {
          "delete_cmd_postfix": "",
          "delete_cmd_prefix": "del ",
          "library": "var_list.py",
          "varRefreshCmd": "print(var_dic_list())"
        },
        "r": {
          "delete_cmd_postfix": ") ",
          "delete_cmd_prefix": "rm(",
          "library": "var_list.r",
          "varRefreshCmd": "cat(var_dic_list()) "
        }
      },
      "types_to_exclude": [
        "module",
        "function",
        "builtin_function_or_method",
        "instance",
        "_Feature"
      ],
      "window_display": false
    }
  },
  "nbformat": 4,
  "nbformat_minor": 5
}
