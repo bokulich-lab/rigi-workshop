{
 "cells": [
  {
   "cell_type": "markdown",
   "id": "66e8d14b",
   "metadata": {
    "id": "66e8d14b"
   },
   "source": [
    "# Tutorial: Functional annotation analysis with MOSHPIT\n",
    "\n",
    "This notebook contains materials accompanying the Rigi Workshop 2025: **Microbiome Meets Metabolism**. The notebook and corresponding setup script were adapted from the [**Advanced Block Course: Computational Biology**](https://github.com/bokulich-lab/advanced-comp-bio-tutorial.git); all source code is licensed under the Apache License 2.0.\n",
    "\n",
    "Save your own local copy of this notebook by using `File > Save a copy in Drive`. At some point you may be prompted to trust the notebook. We promise that it is safe 🤞\n",
    "\n",
    "**Notes (optional):**\n",
    "\n",
    "The Google Colab notebook environment will interpret any command as Python code by default. If we want to run bash commands we will have to prefix them by `!`. So any command you see with a leading `!` is a bash command and if you wanted to run it in your terminal you would omit the leading `!`. For example, if in the Colab notebook you ran `!wget` you would just run `wget` in your terminal.\n",
    "\n",
    "In this notebook we use the `!` prefix because we run all MOSHPIT commands using the [`q2cli`](https://github.com/qiime2/q2cli/) (QIIME 2 command-line interface). However, MOSHPIT/QIIME 2 also has a Python API. You can learn more about these and other QIIME 2 interfaces at https://qiime2.org/."
   ]
  },
  {
   "cell_type": "markdown",
   "id": "72f112dd-6c92-4bc8-9903-b66810eba77d",
   "metadata": {
    "id": "72f112dd-6c92-4bc8-9903-b66810eba77d"
   },
   "source": [
    "### Environment setup\n",
    "\n",
    "MOSHPIT is usually installed by following the [official installation instructions](https://docs.qiime2.org/2024.10/install/). However, because we are using Google Colab and there are some caveats to using conda here, we will have to hack around the installation a little. But no worries, we provide a setup script below which does all this work for us. 😌 Let's start by pulling a local copy of the project repository down from GitHub.\n",
    "\n",
    "From here, you run the entire notebook by selecting `Runtime > Run all` from the menu in Google Colab. Some steps are time-comsuming and the entire notebook may take up to 30-60 minutes, so run the entire notebook now and we will inspect the commands and results as we work through as a class.\n",
    "\n",
    "🛑 **ACTION** 🛑\n",
    "<br>\n",
    "*Run every cell in the notebook using the instructions above.*"
   ]
  },
  {
   "cell_type": "code",
   "execution_count": null,
   "id": "fb370f02",
   "metadata": {
    "colab": {
     "base_uri": "https://localhost:8080/"
    },
    "id": "fb370f02",
    "outputId": "d1b21cb3-7b09-4fa6-d7dd-7199f47d4ec5"
   },
   "outputs": [],
   "source": [
    "! git clone https://github.com/fsb-edu/rigi-workshop.git materials"
   ]
  },
  {
   "cell_type": "markdown",
   "id": "ca93f535-e068-46c4-a7cc-2cb003a125ed",
   "metadata": {
    "id": "ca93f535-e068-46c4-a7cc-2cb003a125ed"
   },
   "source": [
    "We will move into the `materials/` directory."
   ]
  },
  {
   "cell_type": "code",
   "execution_count": null,
   "id": "8c307202-63c5-4a14-aa2c-8cf62798c147",
   "metadata": {
    "colab": {
     "base_uri": "https://localhost:8080/"
    },
    "id": "8c307202-63c5-4a14-aa2c-8cf62798c147",
    "outputId": "07c45da9-18d6-4110-c4e2-44eb44cde38b"
   },
   "outputs": [],
   "source": [
    "%cd materials"
   ]
  },
  {
   "cell_type": "markdown",
   "id": "c489ed10",
   "metadata": {
    "id": "c489ed10"
   },
   "source": [
    "Now we are ready to set up our environment. This will take about 10 minutes.\n",
    "<br>\n",
    "**Note:** This setup is only relevant for Google Colaboratory and will not work on your local machine. To learn more about MOSHPIT installation please consult our [official tutorial](https://moshpit.readthedocs.io/en/latest/chapters/00_setup.html)."
   ]
  },
  {
   "cell_type": "code",
   "execution_count": null,
   "id": "9b891377",
   "metadata": {
    "colab": {
     "base_uri": "https://localhost:8080/",
     "height": 71
    },
    "id": "9b891377",
    "outputId": "792a9239-ed58-4ef5-c348-07a5e1259874"
   },
   "outputs": [],
   "source": [
    "%run setup_moshpit"
   ]
  },
  {
   "cell_type": "markdown",
   "id": "abb30748",
   "metadata": {},
   "source": [
    "We need to alias the \"mosh\" command to point to the moshpit-dev environment - this is a workaround for the Google Colab environment."
   ]
  },
  {
   "cell_type": "code",
   "execution_count": 41,
   "id": "9d-cD0LaIp3y",
   "metadata": {
    "id": "9d-cD0LaIp3y"
   },
   "outputs": [],
   "source": [
    "alias mosh mamba run -n moshpit-dev -r /usr/local mosh"
   ]
  },
  {
   "cell_type": "markdown",
   "id": "bbfd9cbe-c256-4bfc-a7e9-f92e24ae9d8a",
   "metadata": {
    "id": "bbfd9cbe-c256-4bfc-a7e9-f92e24ae9d8a"
   },
   "source": [
    "### Functional annotation with MOSHPIT"
   ]
  },
  {
   "cell_type": "code",
   "id": "eed1f227",
   "metadata": {
    "ExecuteTime": {
     "end_time": "2025-01-28T09:24:34.872355Z",
     "start_time": "2025-01-28T09:22:25.779391Z"
    }
   },
   "source": "mosh annotate extract-annotations --i-ortholog-annotations ./data/eggnog_annotations.qza --p-annotation kegg_reaction --p-max-evalue 0.0001 --o-annotation-frequency ./data/eggnog_kegg_ko_freq.qza",
   "outputs": [
    {
     "name": "stdout",
     "output_type": "stream",
     "text": [
      "Usage: \u001B[94mmosh annotate extract-annotations\u001B[0m [OPTIONS]\r\n",
      "\r\n",
      "  This method extract a specific annotation from the table generated by EggNOG\r\n",
      "  and calculates its frequencies across all MAGs.\r\n",
      "\r\n",
      "\u001B[1mInputs\u001B[0m:\r\n",
      "  \u001B[94m\u001B[4m--i-ortholog-annotations\u001B[0m ARTIFACT\r\n",
      "    \u001B[32mGenomeData[NOG]\u001B[0m      Ortholog annotations.                      \u001B[35m[required]\u001B[0m\r\n",
      "\u001B[1mParameters\u001B[0m:\r\n",
      "  \u001B[94m\u001B[4m--p-annotation\u001B[0m TEXT \u001B[32mChoices('cog', 'caz', 'kegg_ko', 'kegg_pathway',\u001B[0m\r\n",
      "    \u001B[32m'kegg_reaction', 'kegg_module', 'brite')\u001B[0m\r\n",
      "                         Annotation to extract.                     \u001B[35m[required]\u001B[0m\r\n",
      "  \u001B[94m--p-max-evalue\u001B[0m NUMBER  \r\n",
      "    \u001B[32mRange(0, None)\u001B[0m                                              \u001B[35m[default: 1.0]\u001B[0m\r\n",
      "  \u001B[94m--p-min-score\u001B[0m NUMBER   \r\n",
      "    \u001B[32mRange(0, None)\u001B[0m                                              \u001B[35m[default: 0.0]\u001B[0m\r\n",
      "\u001B[1mOutputs\u001B[0m:\r\n",
      "  \u001B[94m\u001B[4m--o-annotation-frequency\u001B[0m ARTIFACT \u001B[32mFeatureTable[Frequency]\u001B[0m\r\n",
      "                         Feature table with frequency of each annotation.\r\n",
      "                                                                    \u001B[35m[required]\u001B[0m\r\n",
      "\u001B[1mMiscellaneous\u001B[0m:\r\n",
      "  \u001B[94m--output-dir\u001B[0m PATH      Output unspecified results to a directory\r\n",
      "  \u001B[94m--verbose\u001B[0m / \u001B[94m--quiet\u001B[0m    Display verbose output to stdout and/or stderr\r\n",
      "                         during execution of this action. Or silence output if\r\n",
      "                         execution is successful (silence is golden).\r\n",
      "  \u001B[94m--example-data\u001B[0m PATH    Write example data and exit.\r\n",
      "  \u001B[94m--citations\u001B[0m            Show citations and exit.\r\n",
      "  \u001B[94m--use-cache\u001B[0m DIRECTORY  Specify the cache to be used for the intermediate\r\n",
      "                         work of this action. If not provided, the default\r\n",
      "                         cache under $TMP/qiime2/<uname> will be used.\r\n",
      "                         IMPORTANT FOR HPC USERS: If you are on an HPC system\r\n",
      "                         and are using parallel execution it is important to\r\n",
      "                         set this to a location that is globally accessible to\r\n",
      "                         all nodes in the cluster.\r\n",
      "  \u001B[94m--help\u001B[0m                 Show this message and exit.\r\n",
      "\r\n",
      "\u001B[33m                    There was a problem with the command:                     \u001B[0m\r\n",
      "\u001B[31m\u001B[1m (1/1) Invalid value for '--i-ortholog-annotations': Expected an artifact of\r\n",
      "  at least type GenomeData[NOG]. An artifact of type FeatureData[NOG] was\r\n",
      "  provided.\u001B[0m\r\n",
      "\u001B[0m"
     ]
    }
   ],
   "execution_count": 2
  },
  {
   "cell_type": "code",
   "execution_count": null,
   "id": "43239c86",
   "metadata": {},
   "outputs": [],
   "source": [
    "mosh annotate multiply-tables --i-table1 ./data/mags_derep_ft.qza --i-table2 ./data/eggnog_kegg_ko_freq.qza --o-result-table ./data/kegg_ko_ft.qza"
   ]
  },
  {
   "cell_type": "code",
   "execution_count": null,
   "id": "dd72f170",
   "metadata": {},
   "outputs": [],
   "source": [
    "mosh composition ancombc --i-table ./data/kegg_ko_ft.qza --m-metadata-file ./data/cocoa-metadata.tsv --p-formula stage --o-differentials ./data/kegg_ko_differentials.qza"
   ]
  },
  {
   "cell_type": "code",
   "execution_count": null,
   "id": "a88ab3ea",
   "metadata": {},
   "outputs": [],
   "source": [
    "mosh composition da-barplot --i-data ./data/kegg_ko_differentials.qza --p-significance-threshold 0.05 --p-effect-size-threshold 1.1 --o-visualization ./data/kegg_ko_differentials.qzv"
   ]
  },
  {
   "cell_type": "code",
   "execution_count": null,
   "id": "0e67aeb7",
   "metadata": {},
   "outputs": [],
   "source": []
  }
 ],
 "metadata": {
  "colab": {
   "provenance": []
  },
  "kernelspec": {
   "display_name": "Python 3 (ipykernel)",
   "language": "python",
   "name": "python3"
  },
  "language_info": {
   "codemirror_mode": {
    "name": "ipython",
    "version": 3
   },
   "file_extension": ".py",
   "mimetype": "text/x-python",
   "name": "python",
   "nbconvert_exporter": "python",
   "pygments_lexer": "ipython3",
   "version": "3.8.16"
  },
  "toc": {
   "base_numbering": 1,
   "nav_menu": {},
   "number_sections": true,
   "sideBar": true,
   "skip_h1_title": false,
   "title_cell": "Table of Contents",
   "title_sidebar": "Contents",
   "toc_cell": false,
   "toc_position": {},
   "toc_section_display": true,
   "toc_window_display": false
  },
  "varInspector": {
   "cols": {
    "lenName": 16,
    "lenType": 16,
    "lenVar": 40
   },
   "kernels_config": {
    "python": {
     "delete_cmd_postfix": "",
     "delete_cmd_prefix": "del ",
     "library": "var_list.py",
     "varRefreshCmd": "print(var_dic_list())"
    },
    "r": {
     "delete_cmd_postfix": ") ",
     "delete_cmd_prefix": "rm(",
     "library": "var_list.r",
     "varRefreshCmd": "cat(var_dic_list()) "
    }
   },
   "types_to_exclude": [
    "module",
    "function",
    "builtin_function_or_method",
    "instance",
    "_Feature"
   ],
   "window_display": false
  }
 },
 "nbformat": 4,
 "nbformat_minor": 5
}
