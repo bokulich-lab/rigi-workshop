{
 "cells": [
  {
   "cell_type": "markdown",
   "id": "66e8d14b",
   "metadata": {
    "id": "66e8d14b"
   },
   "source": [
    "# Tutorial: Functional annotation analysis with MOSHPIT\n",
    "\n",
    "This notebook contains materials accompanying the Rigi Workshop 2025: **Microbiome Meets Metabolism**. The notebook and corresponding setup script were adapted from the [**Advanced Block Course: Computational Biology**](https://github.com/bokulich-lab/advanced-comp-bio-tutorial.git); all source code is licensed under the Apache License 2.0.\n",
    "\n",
    "Save your own local copy of this notebook by using `File > Save a copy in Drive`. At some point you may be prompted to trust the notebook. We promise that it is safe 🤞\n",
    "\n",
    "### Background\n",
    "\n",
    "In this tutorial, we will analyze functional gene annotation data derived from [metagenome](https://en.wikipedia.org/wiki/Metagenomics) sequence data using [MOSHPIT](https://moshpit.readthedocs.io/en/latest/intro.html), a a toolkit of plugins for whole metagenome assembly, annotation, and analysis built on the microbiome multi-omics data science framework [QIIME 2](https://qiime2.org/).\n",
    "\n",
    "This tutorial is based on one chapter of the [MOSHPIT tutorial](https://moshpit.readthedocs.io/en/latest/intro.html). Refer to this tutorial for complete instructions for running MOSHPIT, including steps for functional annotation of metagenome data used to generate the dataset used below.\n",
    "\n",
    "Given the timeframe of this workshop and the high level of computational resources and time required for typical metagenome analysis, we will start with pre-computed functional gene annotation data and learn some options for analyzing and visualizing these data downstream.\n",
    "\n",
    "In this notebook, we will re-analyze data from [this study](https://www.sciencedirect.com/science/article/pii/S0740002020301970) to investigate differences in functional gene profiles between cocoa bean fermentations of two different cultivars (Forasteiro and Hybrid) at two different stages of fermentation (early and late)"
   ]
  },
  {
   "cell_type": "markdown",
   "id": "72f112dd-6c92-4bc8-9903-b66810eba77d",
   "metadata": {
    "id": "72f112dd-6c92-4bc8-9903-b66810eba77d"
   },
   "source": [
    "### Environment setup\n",
    "\n",
    "MOSHPIT is usually installed by following the [official installation instructions](https://docs.qiime2.org/2024.10/install/). However, because we are using Google Colab and there are some caveats to using conda here, we will have to hack around the installation a little. But no worries, we provide a setup script below which does all this work for us. 😌 Let's start by pulling a local copy of the project repository down from GitHub.\n",
    "\n",
    "From here, you run the entire notebook by selecting `Runtime > Run all` from the menu in Google Colab. Some steps are time-comsuming and the entire notebook may take up to 30-60 minutes, so run the entire notebook now and we will inspect the commands and results as we work through as a class.\n",
    "\n",
    "🛑 **ACTION** 🛑\n",
    "<br>\n",
    "*Run every cell in the notebook using the instructions above.*\n",
    "\n",
    "Note that the Environment Setup section should be skipped if you are trying to run this notebook outside of Google Colab. After cloning the repository we will change the working directory to `materials` and execute the setup script - this should take around 10 minutes. Finally, we will alias the \"mosh\" command to point to the moshpit-dev environment."
   ]
  },
  {
   "cell_type": "code",
   "execution_count": null,
   "id": "fb370f02",
   "metadata": {
    "colab": {
     "base_uri": "https://localhost:8080/"
    },
    "id": "fb370f02",
    "outputId": "d1b21cb3-7b09-4fa6-d7dd-7199f47d4ec5"
   },
   "outputs": [],
   "source": [
    "! git clone https://github.com/fsb-edu/rigi-workshop.git materials\n",
    "%cd materials\n",
    "%run setup_moshpit\n",
    "%alias mosh mamba run -n moshpit-dev -r /usr/local mosh"
   ]
  },
  {
   "cell_type": "markdown",
   "id": "bbfd9cbe-c256-4bfc-a7e9-f92e24ae9d8a",
   "metadata": {
    "id": "bbfd9cbe-c256-4bfc-a7e9-f92e24ae9d8a"
   },
   "source": [
    "# 1.0 Functional annotation with MOSHPIT\n",
    "\n",
    "## 1.1. Extracting Annotation Data\n",
    "\n",
    "The data that we downloaded above includes functional annotation with multiple different databases/ontologies. As the study subject here is cocoa fermentation, we will first narrow down the list of proteins of interest to enzymes involved in carbon metabolism (CAZymes). To do that we can use the `filter-annotations` action [exclusive preview!]:"
   ]
  },
  {
   "cell_type": "code",
   "execution_count": null,
   "id": "1427bbc82971153d",
   "metadata": {},
   "outputs": [],
   "source": [
    "mosh annotate filter-annotations --i-ortholog-annotations ./data/eggnog_annotations.qza --p-query \"CAZy<>'-'\" --o-filtered-annotations ./data/eggnog_annotations_filtered.qza"
   ]
  },
  {
   "cell_type": "markdown",
   "id": "aa4cdf98-72b1-41ef-a9df-3aba3317828c",
   "metadata": {},
   "source": [
    "Next, we will use the following action to extract a specific annotation from the filtered table generated by EggNOG and calculate its frequencies across all MAGs.\n",
    "\n",
    "The table resulting from this action will provide information about the frequency of each KEGG pathway observed in each MAG:"
   ]
  },
  {
   "cell_type": "code",
   "execution_count": null,
   "id": "eed1f227",
   "metadata": {},
   "outputs": [],
   "source": [
    "mosh annotate extract-annotations --i-ortholog-annotations ./data/eggnog_annotations_filtered.qza --p-annotation kegg_reaction --p-max-evalue 0.0001 --o-annotation-frequency ./data/eggnog_kegg_reaction_freq.qza"
   ]
  },
  {
   "cell_type": "markdown",
   "id": "7b63087b",
   "metadata": {},
   "source": [
    "## 1.2. Calculating abundance of pathways per sample\n",
    "\n",
    "What if we want to count KEGG or other pathway information per sample? We derive this information via [matrix multiplication](https://en.wikipedia.org/wiki/Matrix_multiplication) of pathway count per MAG X the count of each MAG per sample. This can be useful for aggregating pathway information across many MAGs per sample, e.g., to identify pathways that are enriched in individual samples or groups of samples.\n",
    "\n",
    "The action below will perform matrix multiplication of the pathway-per-MAG feature table X MAG-per-sample feature table to generate a pathway-per-sample feature table as depicted in the diagram above.\n"
   ]
  },
  {
   "cell_type": "code",
   "execution_count": null,
   "id": "43239c86",
   "metadata": {},
   "outputs": [],
   "source": [
    "mosh annotate multiply-tables --i-table1 ./data/mags_derep_ft.qza --i-table2 ./data/eggnog_kegg_reaction_freq.qza --o-result-table ./data/kegg_reaction_ft.qza"
   ]
  },
  {
   "cell_type": "markdown",
   "id": "f237de80",
   "metadata": {},
   "source": [
    "## 1.3. Pathway Enrichment\n",
    "\n",
    "PCoA is a useful technique for visualizing similarity between samples based on composition data, but does not tell us whether thes differences are significant, or which features (e.g., pathways) are enriched in specific groups. For this, we can use various statistical techniques to test which features are associated with specific sample metadata information.\n",
    "\n",
    "First, we will use the [ANCOM-BC](https://www.nature.com/articles/s41467-020-17041-7) test to identify pathways that are enriched during the late stages of fermentation compared to the early ones, and visualize these as a barplot."
   ]
  },
  {
   "cell_type": "code",
   "execution_count": null,
   "id": "dd72f170",
   "metadata": {},
   "outputs": [],
   "source": [
    "mosh composition ancombc --i-table ./data/kegg_reaction_ft.qza --m-metadata-file ./data/cocoa-metadata.tsv --p-formula stage --p-reference-levels \"stage::early\" --o-differentials ./data/kegg_reaction_differentials.qza"
   ]
  },
  {
   "cell_type": "code",
   "execution_count": null,
   "id": "a88ab3ea",
   "metadata": {},
   "outputs": [],
   "source": [
    "mosh composition da-barplot --i-data ./data/kegg_reaction_differentials.qza --p-significance-threshold 0.05 --p-effect-size-threshold 1.1 --o-visualization ./data/kegg_reaction_differentials.qzv"
   ]
  },
  {
   "cell_type": "markdown",
   "id": "0039dc0c",
   "metadata": {},
   "source": [
    "You can view the plot by downloading the .qzv file and opening it using http://view.qiime2.org. To download the file click on the folder symbol to the left, open the `materials` folder, then the `data` folder, and choose download from the dot menu next to the filename. Note that the visualization that opens in your browser window has multiple tabs, allowing you to also view the citation and data provenance information associated with this output.\n",
    "\n",
    "We can look up these reactions in the KEGG database to view detailed information about each reaction. E.g., here is the reaction that is most enriched in \"late\" stage cocoa fermentations:\n",
    "https://www.genome.jp/dbget-bin/www_bget?rn:R10850\n",
    "\n",
    "To view other reactions, simply adjust the reaction number (the last part of the URL)"
   ]
  },
  {
   "cell_type": "markdown",
   "id": "ab6db237",
   "metadata": {},
   "source": [
    "### 1.3.1 Supervised learning-based enrichment prediction\n",
    "Alternatively, we could train a machine-learning classifier to predict group membership based on pathway abundance. The features identified as most predictive/important in this model will be more enriched/depleted in the different metadata categories.\n",
    "\n",
    "Usually machine-learning models should be trained with a large number of samples for a reliable model. We are using a tiny dataset and will obtain an unreliable model, but will do so anyway here for the purposes of demonstration:"
   ]
  },
  {
   "cell_type": "code",
   "execution_count": null,
   "id": "93087226",
   "metadata": {},
   "outputs": [],
   "source": [
    "mosh sample-classifier classify-samples-ncv --i-table ./data/kegg_reaction_ft.qza --m-metadata-file ./data/cocoa-metadata.tsv --m-metadata-column stage --p-random-state 9 --o-predictions ./data/predictions.qza --o-feature-importance ./data/feature-importance.qza --o-probabilities ./data/probabilities.qza"
   ]
  },
  {
   "cell_type": "code",
   "execution_count": null,
   "id": "6b689d4d",
   "metadata": {},
   "outputs": [],
   "source": [
    "mosh sample-classifier confusion-matrix --i-predictions ./data/predictions.qza --i-probabilities ./data/probabilities.qza --m-truth-file ./data/cocoa-metadata.tsv --m-truth-column stage --o-visualization ./data/confusion-matrix.qzv"
   ]
  },
  {
   "cell_type": "markdown",
   "id": "8a47a049",
   "metadata": {},
   "source": [
    "Inspect the `confusion-matrix.qzv` visualization to view the model accuracy.\n",
    "\n",
    "To see which pathways are enriched in each group, we can generate a heatmap to visualize the abundance of each pathway in each sample, labeled by fermentation stage. We will visualize the top 50 most important features (i.e., the 50 that contribute most to the predictive performance of the model):"
   ]
  },
  {
   "cell_type": "code",
   "execution_count": null,
   "id": "942ba867",
   "metadata": {},
   "outputs": [],
   "source": [
    "mosh sample-classifier heatmap --i-table ./data/kegg_reaction_ft.qza --i-importance ./data/feature-importance.qza --m-sample-metadata-file ./data/cocoa-metadata.tsv --m-sample-metadata-column stage --p-feature-count 50 --o-heatmap ./data/rf-heatmap.qzv --o-filtered-table ./data/filtered_ft.qza"
   ]
  },
  {
   "cell_type": "markdown",
   "id": "1ed84c44",
   "metadata": {},
   "source": [
    "## 1.4 Pathway Visualization\n",
    "Clearly the (relative) abundances of certain pathways change significantly between early and late fermentation. What is changing and why?\n",
    "\n",
    "To help contextualize this information, you may want to [inspect the taxonomic composition](https://view.qiime2.org/visualization/?src=https://raw.githubusercontent.com/bokulich-lab/moshpit-docs/main/moshpit_docs/data/mags-derep-bar-plot-90.qzv) of these samples ([see here](https://moshpit.readthedocs.io/en/latest/chapters/03_taxonomic_classification/mags.html) for details on how this was generated).\n",
    "\n",
    "The `annotate` plugin contains an action which can plot the KEGG terms from the ANCOM-BC result onto the complete metabolic pathway map. The command below will generate maps where red colors will indicate pathways enriched in the late (or middle) stage of the fermentation process, as compared to the early stage. Similarly, the blue color will show you the depleted pathways. You can click on the \"Open on iPATH3\" button to open the map in the interactive [iPATH3 viewer](https://pathways.embl.de/ipath3.cgi) to explore further. "
   ]
  },
  {
   "cell_type": "code",
   "execution_count": null,
   "id": "48b35a64db3d2be",
   "metadata": {},
   "outputs": [],
   "source": [
    "mosh annotate map-pathways --i-differentials ./data/kegg_reaction_differentials.qza --p-significance-threshold 0.05 --o-visualization ./data/kegg_reaction_mapped.qzv"
   ]
  },
  {
   "cell_type": "markdown",
   "id": "3d4f2676",
   "metadata": {},
   "source": [
    "# 2. Functional diversity analysis\n",
    "\n",
    "Now that we have pathway counts per sample, we can use this information to compare samples and test whether pathway abundances are associated with any specific metadata information.\n",
    "\n",
    "## 2.1. Beta diversity\n",
    "We will start by calculating a [Bray-curtis dissimilarity matrix](https://en.wikipedia.org/wiki/Bray%E2%80%93Curtis_dissimilarity) to measure the dissimilarity between each sample, based on observed frequency of different KEGG pathways in each sample."
   ]
  },
  {
   "cell_type": "code",
   "execution_count": null,
   "id": "e8ad84e3",
   "metadata": {},
   "outputs": [],
   "source": [
    "mosh diversity beta --i-table ./data/kegg_reaction_ft.qza --p-metric braycurtis --o-distance-matrix ./data/braycurtis_dist.qza"
   ]
  },
  {
   "cell_type": "markdown",
   "id": "11f37265",
   "metadata": {},
   "source": [
    "Next, we will perform [principal coordinates analysis (PCoA)](https://en.wikipedia.org/wiki/Multidimensional_scaling) from the obtained Bray-curtis matrix."
   ]
  },
  {
   "cell_type": "code",
   "execution_count": null,
   "id": "91e56370",
   "metadata": {},
   "outputs": [],
   "source": [
    "mosh diversity pcoa --i-distance-matrix ./data/braycurtis_dist.qza --o-pcoa ./data/braycurtis_pcoa.qza"
   ]
  },
  {
   "cell_type": "markdown",
   "id": "c59207ca",
   "metadata": {},
   "source": [
    "Visualization time! Let’s plot the PCoA results."
   ]
  },
  {
   "cell_type": "code",
   "execution_count": null,
   "id": "e8fccfba",
   "metadata": {},
   "outputs": [],
   "source": [
    "mosh emperor plot --i-pcoa ./data/braycurtis_pcoa.qza --m-metadata-file ./data/cocoa-metadata.tsv --o-visualization ./data/kegg-pcoa.qzv"
   ]
  },
  {
   "cell_type": "markdown",
   "id": "dba8fd6d",
   "metadata": {},
   "source": [
    "To test for significant differences in functional profile, we can run a [PERMANOVA](https://en.wikipedia.org/wiki/Permutational_analysis_of_variance) test. We will test the effect of fermentation stage and seed type on the functional profiles."
   ]
  },
  {
   "cell_type": "code",
   "execution_count": null,
   "id": "b125bc7c",
   "metadata": {},
   "outputs": [],
   "source": [
    "mosh diversity adonis --i-distance-matrix ./data/braycurtis_dist.qza --m-metadata-file ./data/cocoa-metadata.tsv --p-formula 'stage+seed' --o-visualization ./data/kegg-adonis.qzv"
   ]
  },
  {
   "cell_type": "markdown",
   "id": "3493a69f",
   "metadata": {},
   "source": [
    "## 2.2. Alpha diversity\n",
    "We can also calculate alpha diversity, using [Shannon entropy](https://en.wikipedia.org/wiki/Diversity_index#Shannon_index) to assess whether the diversity of KEGG orthologs observed in each sample increases or decreases over time, or whether their are differences between seed type."
   ]
  },
  {
   "cell_type": "code",
   "execution_count": null,
   "id": "59a97d91",
   "metadata": {},
   "outputs": [],
   "source": [
    "mosh diversity alpha --i-table ./data/kegg_reaction_ft.qza --p-metric shannon --o-alpha-diversity ./data/shannon_vector.qza"
   ]
  },
  {
   "cell_type": "markdown",
   "id": "2fc73e68",
   "metadata": {},
   "source": [
    "We can visualize this a few different ways, e.g., as a line plot or boxplot:"
   ]
  },
  {
   "cell_type": "code",
   "execution_count": null,
   "id": "d9ddd7ec",
   "metadata": {},
   "outputs": [],
   "source": [
    "mosh vizard lineplot --m-metadata-file ./data/cocoa-metadata.tsv --m-metadata-file ./data/shannon_vector.qza --p-x-measure timepoint --p-y-measure shannon_entropy --p-group-by seed --o-visualization ./data/shannon_lineplot.qzv"
   ]
  },
  {
   "cell_type": "code",
   "execution_count": null,
   "id": "69123ca1",
   "metadata": {},
   "outputs": [],
   "source": [
    "mosh vizard boxplot --m-metadata-file ./data/cocoa-metadata.tsv --m-metadata-file ./data/shannon_vector.qza --p-distribution-measure shannon_entropy --p-group-by stage --o-visualization ./data/shannon_boxplot.qzv"
   ]
  },
  {
   "cell_type": "markdown",
   "id": "983d5ac1",
   "metadata": {},
   "source": [
    "...and test for statistical significance, e.g., with an ANOVA test to test for effects of seed type and timepoint on entropy:"
   ]
  },
  {
   "cell_type": "code",
   "execution_count": null,
   "id": "5144dbe8",
   "metadata": {},
   "outputs": [],
   "source": [
    "mosh longitudinal anova --m-metadata-file ./data/cocoa-metadata.tsv --m-metadata-file ./data/shannon_vector.qza --p-formula 'shannon_entropy~timepoint+seed' --o-visualization ./data/shannon_anova.qzv"
   ]
  },
  {
   "cell_type": "markdown",
   "id": "288d113e",
   "metadata": {},
   "source": [
    "# 3. Time to Explore\n",
    "\n",
    "If you made it this far, feel free to explore further! Several plugins are already installed in the computational environment that we are using (this is done in the setup step above). These plugins introduce different functionality. You can use the `--help` flag to read the documentation for any given plugin, as well as for the individual actions in each plugin. Give it a try! Explore a bit and see if there are any other interesting methods that you could apply to this dataset.\n",
    "\n",
    "_hint: check out other actions in the `longitudinal` and `diversity` plugins!_"
   ]
  },
  {
   "cell_type": "code",
   "execution_count": null,
   "id": "8f313080",
   "metadata": {},
   "outputs": [],
   "source": [
    "mosh --help"
   ]
  }
 ],
 "metadata": {
  "colab": {
   "provenance": []
  },
  "kernelspec": {
   "display_name": "Python 3 (ipykernel)",
   "language": "python",
   "name": "python3"
  },
  "language_info": {
   "codemirror_mode": {
    "name": "ipython",
    "version": 3
   },
   "file_extension": ".py",
   "mimetype": "text/x-python",
   "name": "python",
   "nbconvert_exporter": "python",
   "pygments_lexer": "ipython3",
   "version": "3.10.14"
  },
  "toc": {
   "base_numbering": 1,
   "nav_menu": {},
   "number_sections": true,
   "sideBar": true,
   "skip_h1_title": false,
   "title_cell": "Table of Contents",
   "title_sidebar": "Contents",
   "toc_cell": false,
   "toc_position": {},
   "toc_section_display": true,
   "toc_window_display": false
  },
  "varInspector": {
   "cols": {
    "lenName": 16,
    "lenType": 16,
    "lenVar": 40
   },
   "kernels_config": {
    "python": {
     "delete_cmd_postfix": "",
     "delete_cmd_prefix": "del ",
     "library": "var_list.py",
     "varRefreshCmd": "print(var_dic_list())"
    },
    "r": {
     "delete_cmd_postfix": ") ",
     "delete_cmd_prefix": "rm(",
     "library": "var_list.r",
     "varRefreshCmd": "cat(var_dic_list()) "
    }
   },
   "types_to_exclude": [
    "module",
    "function",
    "builtin_function_or_method",
    "instance",
    "_Feature"
   ],
   "window_display": false
  }
 },
 "nbformat": 4,
 "nbformat_minor": 5
}
